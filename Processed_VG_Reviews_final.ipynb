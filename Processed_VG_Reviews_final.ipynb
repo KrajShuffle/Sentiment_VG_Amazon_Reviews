{
 "cells": [
  {
   "cell_type": "markdown",
   "id": "ef42a505-11eb-44d9-ae2e-9eeb8d2be935",
   "metadata": {},
   "source": [
    "## Work done by Karthik Raj (SSID: 3035366972)"
   ]
  },
  {
   "cell_type": "code",
   "execution_count": 1,
   "id": "4d18bb9d-4cea-4034-a4ca-435b7a4d500b",
   "metadata": {},
   "outputs": [],
   "source": [
    "import pandas as pd\n",
    "import gzip\n",
    "import numpy as np\n",
    "import seaborn as sns\n",
    "import matplotlib.pyplot as plt\n",
    "def parse(path):\n",
    "    g = gzip.open(path, 'rb')\n",
    "    for l in g:\n",
    "        yield json.loads(l)\n",
    "\n",
    "def getDF(path):\n",
    "    i = 0\n",
    "    df = {}\n",
    "    for d in parse(path):\n",
    "        df[i] = d\n",
    "        i += 1\n",
    "    return pd.DataFrame.from_dict(df, orient='index')"
   ]
  },
  {
   "cell_type": "code",
   "execution_count": 2,
   "id": "d04184b1-9750-4a84-a305-3e629873de33",
   "metadata": {},
   "outputs": [],
   "source": [
    "# Loading in the reviews of products\n",
    "df_rev = getDF('Video_Games_5.json.gz')"
   ]
  },
  {
   "cell_type": "code",
   "execution_count": 3,
   "id": "4f49a9fd-937a-4fab-9594-ea12405e5bbb",
   "metadata": {},
   "outputs": [
    {
     "data": {
      "text/plain": [
       "(497577, 12)"
      ]
     },
     "metadata": {},
     "output_type": "display_data"
    },
    {
     "data": {
      "text/plain": [
       "overall           float64\n",
       "verified             bool\n",
       "reviewTime         object\n",
       "reviewerID         object\n",
       "asin               object\n",
       "reviewerName       object\n",
       "reviewText         object\n",
       "summary            object\n",
       "unixReviewTime      int64\n",
       "vote               object\n",
       "style              object\n",
       "image              object\n",
       "dtype: object"
      ]
     },
     "metadata": {},
     "output_type": "display_data"
    },
    {
     "data": {
      "text/html": [
       "<div>\n",
       "<style scoped>\n",
       "    .dataframe tbody tr th:only-of-type {\n",
       "        vertical-align: middle;\n",
       "    }\n",
       "\n",
       "    .dataframe tbody tr th {\n",
       "        vertical-align: top;\n",
       "    }\n",
       "\n",
       "    .dataframe thead th {\n",
       "        text-align: right;\n",
       "    }\n",
       "</style>\n",
       "<table border=\"1\" class=\"dataframe\">\n",
       "  <thead>\n",
       "    <tr style=\"text-align: right;\">\n",
       "      <th></th>\n",
       "      <th>overall</th>\n",
       "      <th>verified</th>\n",
       "      <th>reviewTime</th>\n",
       "      <th>reviewerID</th>\n",
       "      <th>asin</th>\n",
       "      <th>reviewerName</th>\n",
       "      <th>reviewText</th>\n",
       "      <th>summary</th>\n",
       "      <th>unixReviewTime</th>\n",
       "      <th>vote</th>\n",
       "      <th>style</th>\n",
       "      <th>image</th>\n",
       "    </tr>\n",
       "  </thead>\n",
       "  <tbody>\n",
       "    <tr>\n",
       "      <th>0</th>\n",
       "      <td>5.0</td>\n",
       "      <td>True</td>\n",
       "      <td>10 17, 2015</td>\n",
       "      <td>A1HP7NVNPFMA4N</td>\n",
       "      <td>0700026657</td>\n",
       "      <td>Ambrosia075</td>\n",
       "      <td>This game is a bit hard to get the hang of, bu...</td>\n",
       "      <td>but when you do it's great.</td>\n",
       "      <td>1445040000</td>\n",
       "      <td>NaN</td>\n",
       "      <td>NaN</td>\n",
       "      <td>NaN</td>\n",
       "    </tr>\n",
       "    <tr>\n",
       "      <th>1</th>\n",
       "      <td>4.0</td>\n",
       "      <td>False</td>\n",
       "      <td>07 27, 2015</td>\n",
       "      <td>A1JGAP0185YJI6</td>\n",
       "      <td>0700026657</td>\n",
       "      <td>travis</td>\n",
       "      <td>I played it a while but it was alright. The st...</td>\n",
       "      <td>But in spite of that it was fun, I liked it</td>\n",
       "      <td>1437955200</td>\n",
       "      <td>NaN</td>\n",
       "      <td>NaN</td>\n",
       "      <td>NaN</td>\n",
       "    </tr>\n",
       "    <tr>\n",
       "      <th>2</th>\n",
       "      <td>3.0</td>\n",
       "      <td>True</td>\n",
       "      <td>02 23, 2015</td>\n",
       "      <td>A1YJWEXHQBWK2B</td>\n",
       "      <td>0700026657</td>\n",
       "      <td>Vincent G. Mezera</td>\n",
       "      <td>ok game.</td>\n",
       "      <td>Three Stars</td>\n",
       "      <td>1424649600</td>\n",
       "      <td>NaN</td>\n",
       "      <td>NaN</td>\n",
       "      <td>NaN</td>\n",
       "    </tr>\n",
       "    <tr>\n",
       "      <th>3</th>\n",
       "      <td>2.0</td>\n",
       "      <td>True</td>\n",
       "      <td>02 20, 2015</td>\n",
       "      <td>A2204E1TH211HT</td>\n",
       "      <td>0700026657</td>\n",
       "      <td>Grandma KR</td>\n",
       "      <td>found the game a bit too complicated, not what...</td>\n",
       "      <td>Two Stars</td>\n",
       "      <td>1424390400</td>\n",
       "      <td>NaN</td>\n",
       "      <td>NaN</td>\n",
       "      <td>NaN</td>\n",
       "    </tr>\n",
       "    <tr>\n",
       "      <th>4</th>\n",
       "      <td>5.0</td>\n",
       "      <td>True</td>\n",
       "      <td>12 25, 2014</td>\n",
       "      <td>A2RF5B5H74JLPE</td>\n",
       "      <td>0700026657</td>\n",
       "      <td>jon</td>\n",
       "      <td>great game, I love it and have played it since...</td>\n",
       "      <td>love this game</td>\n",
       "      <td>1419465600</td>\n",
       "      <td>NaN</td>\n",
       "      <td>NaN</td>\n",
       "      <td>NaN</td>\n",
       "    </tr>\n",
       "  </tbody>\n",
       "</table>\n",
       "</div>"
      ],
      "text/plain": [
       "   overall  verified   reviewTime      reviewerID        asin  \\\n",
       "0      5.0      True  10 17, 2015  A1HP7NVNPFMA4N  0700026657   \n",
       "1      4.0     False  07 27, 2015  A1JGAP0185YJI6  0700026657   \n",
       "2      3.0      True  02 23, 2015  A1YJWEXHQBWK2B  0700026657   \n",
       "3      2.0      True  02 20, 2015  A2204E1TH211HT  0700026657   \n",
       "4      5.0      True  12 25, 2014  A2RF5B5H74JLPE  0700026657   \n",
       "\n",
       "        reviewerName                                         reviewText  \\\n",
       "0        Ambrosia075  This game is a bit hard to get the hang of, bu...   \n",
       "1             travis  I played it a while but it was alright. The st...   \n",
       "2  Vincent G. Mezera                                           ok game.   \n",
       "3         Grandma KR  found the game a bit too complicated, not what...   \n",
       "4                jon  great game, I love it and have played it since...   \n",
       "\n",
       "                                       summary  unixReviewTime vote style  \\\n",
       "0                  but when you do it's great.      1445040000  NaN   NaN   \n",
       "1  But in spite of that it was fun, I liked it      1437955200  NaN   NaN   \n",
       "2                                  Three Stars      1424649600  NaN   NaN   \n",
       "3                                    Two Stars      1424390400  NaN   NaN   \n",
       "4                               love this game      1419465600  NaN   NaN   \n",
       "\n",
       "  image  \n",
       "0   NaN  \n",
       "1   NaN  \n",
       "2   NaN  \n",
       "3   NaN  \n",
       "4   NaN  "
      ]
     },
     "execution_count": 3,
     "metadata": {},
     "output_type": "execute_result"
    }
   ],
   "source": [
    "display(df_rev.shape)\n",
    "display(df_rev.dtypes)\n",
    "df_rev.head()"
   ]
  },
  {
   "cell_type": "markdown",
   "id": "af5c8b51-3f3d-4ca5-822f-07f6b4148edc",
   "metadata": {
    "tags": []
   },
   "source": [
    "# Processing Reviews DataFrame"
   ]
  },
  {
   "cell_type": "markdown",
   "id": "89f3c2e5-0fa1-471c-b84c-3fb24739b0f0",
   "metadata": {
    "tags": []
   },
   "source": [
    "## Conversion of Votes to INT Data Type"
   ]
  },
  {
   "cell_type": "code",
   "execution_count": 4,
   "id": "fa16d80c-eecd-4591-a13b-bdf93336ab60",
   "metadata": {},
   "outputs": [],
   "source": [
    "df_rev['vote'] = df_rev['vote'].str.replace(',', '')\n",
    "df_rev['vote'].fillna(0, inplace = True)\n",
    "df_rev['vote'] = df_rev['vote'].astype(int)"
   ]
  },
  {
   "cell_type": "code",
   "execution_count": 5,
   "id": "b678aba2-7849-4614-ad46-b16bdc07d840",
   "metadata": {},
   "outputs": [
    {
     "data": {
      "text/plain": [
       "count    497577.000000\n",
       "mean          2.308280\n",
       "std          17.133128\n",
       "min           0.000000\n",
       "25%           0.000000\n",
       "50%           0.000000\n",
       "75%           0.000000\n",
       "max        2474.000000\n",
       "Name: vote, dtype: float64"
      ]
     },
     "execution_count": 5,
     "metadata": {},
     "output_type": "execute_result"
    }
   ],
   "source": [
    "# Find the range of votes\n",
    "df_rev['vote'].describe()"
   ]
  },
  {
   "cell_type": "code",
   "execution_count": 6,
   "id": "df1588a4-9aa9-455c-9727-d6bf401c6175",
   "metadata": {},
   "outputs": [
    {
     "data": {
      "text/plain": [
       "overall           float64\n",
       "verified             bool\n",
       "reviewTime         object\n",
       "reviewerID         object\n",
       "asin               object\n",
       "reviewerName       object\n",
       "reviewText         object\n",
       "summary            object\n",
       "unixReviewTime      int64\n",
       "vote                int64\n",
       "style              object\n",
       "image              object\n",
       "dtype: object"
      ]
     },
     "metadata": {},
     "output_type": "display_data"
    }
   ],
   "source": [
    "display(df_rev.dtypes)"
   ]
  },
  {
   "cell_type": "markdown",
   "id": "2186b337-b8d5-4703-88e3-116221843d9f",
   "metadata": {
    "tags": []
   },
   "source": [
    "## Filter unverified"
   ]
  },
  {
   "cell_type": "code",
   "execution_count": 7,
   "id": "7e10335b-1b8e-4700-968e-855ea61232c8",
   "metadata": {},
   "outputs": [
    {
     "data": {
      "text/plain": [
       "(332645, 12)"
      ]
     },
     "metadata": {},
     "output_type": "display_data"
    },
    {
     "data": {
      "text/html": [
       "<div>\n",
       "<style scoped>\n",
       "    .dataframe tbody tr th:only-of-type {\n",
       "        vertical-align: middle;\n",
       "    }\n",
       "\n",
       "    .dataframe tbody tr th {\n",
       "        vertical-align: top;\n",
       "    }\n",
       "\n",
       "    .dataframe thead th {\n",
       "        text-align: right;\n",
       "    }\n",
       "</style>\n",
       "<table border=\"1\" class=\"dataframe\">\n",
       "  <thead>\n",
       "    <tr style=\"text-align: right;\">\n",
       "      <th></th>\n",
       "      <th>overall</th>\n",
       "      <th>verified</th>\n",
       "      <th>reviewTime</th>\n",
       "      <th>reviewerID</th>\n",
       "      <th>asin</th>\n",
       "      <th>reviewerName</th>\n",
       "      <th>reviewText</th>\n",
       "      <th>summary</th>\n",
       "      <th>unixReviewTime</th>\n",
       "      <th>vote</th>\n",
       "      <th>style</th>\n",
       "      <th>image</th>\n",
       "    </tr>\n",
       "  </thead>\n",
       "  <tbody>\n",
       "    <tr>\n",
       "      <th>0</th>\n",
       "      <td>5.0</td>\n",
       "      <td>True</td>\n",
       "      <td>10 17, 2015</td>\n",
       "      <td>A1HP7NVNPFMA4N</td>\n",
       "      <td>0700026657</td>\n",
       "      <td>Ambrosia075</td>\n",
       "      <td>This game is a bit hard to get the hang of, bu...</td>\n",
       "      <td>but when you do it's great.</td>\n",
       "      <td>1445040000</td>\n",
       "      <td>0</td>\n",
       "      <td>NaN</td>\n",
       "      <td>NaN</td>\n",
       "    </tr>\n",
       "    <tr>\n",
       "      <th>2</th>\n",
       "      <td>3.0</td>\n",
       "      <td>True</td>\n",
       "      <td>02 23, 2015</td>\n",
       "      <td>A1YJWEXHQBWK2B</td>\n",
       "      <td>0700026657</td>\n",
       "      <td>Vincent G. Mezera</td>\n",
       "      <td>ok game.</td>\n",
       "      <td>Three Stars</td>\n",
       "      <td>1424649600</td>\n",
       "      <td>0</td>\n",
       "      <td>NaN</td>\n",
       "      <td>NaN</td>\n",
       "    </tr>\n",
       "    <tr>\n",
       "      <th>3</th>\n",
       "      <td>2.0</td>\n",
       "      <td>True</td>\n",
       "      <td>02 20, 2015</td>\n",
       "      <td>A2204E1TH211HT</td>\n",
       "      <td>0700026657</td>\n",
       "      <td>Grandma KR</td>\n",
       "      <td>found the game a bit too complicated, not what...</td>\n",
       "      <td>Two Stars</td>\n",
       "      <td>1424390400</td>\n",
       "      <td>0</td>\n",
       "      <td>NaN</td>\n",
       "      <td>NaN</td>\n",
       "    </tr>\n",
       "    <tr>\n",
       "      <th>4</th>\n",
       "      <td>5.0</td>\n",
       "      <td>True</td>\n",
       "      <td>12 25, 2014</td>\n",
       "      <td>A2RF5B5H74JLPE</td>\n",
       "      <td>0700026657</td>\n",
       "      <td>jon</td>\n",
       "      <td>great game, I love it and have played it since...</td>\n",
       "      <td>love this game</td>\n",
       "      <td>1419465600</td>\n",
       "      <td>0</td>\n",
       "      <td>NaN</td>\n",
       "      <td>NaN</td>\n",
       "    </tr>\n",
       "    <tr>\n",
       "      <th>5</th>\n",
       "      <td>4.0</td>\n",
       "      <td>True</td>\n",
       "      <td>11 13, 2014</td>\n",
       "      <td>A11V6ZJ2FVQY1D</td>\n",
       "      <td>0700026657</td>\n",
       "      <td>IBRAHIM ALBADI</td>\n",
       "      <td>i liked a lot some time that i haven't play a ...</td>\n",
       "      <td>Anno 2070</td>\n",
       "      <td>1415836800</td>\n",
       "      <td>0</td>\n",
       "      <td>NaN</td>\n",
       "      <td>NaN</td>\n",
       "    </tr>\n",
       "  </tbody>\n",
       "</table>\n",
       "</div>"
      ],
      "text/plain": [
       "   overall  verified   reviewTime      reviewerID        asin  \\\n",
       "0      5.0      True  10 17, 2015  A1HP7NVNPFMA4N  0700026657   \n",
       "2      3.0      True  02 23, 2015  A1YJWEXHQBWK2B  0700026657   \n",
       "3      2.0      True  02 20, 2015  A2204E1TH211HT  0700026657   \n",
       "4      5.0      True  12 25, 2014  A2RF5B5H74JLPE  0700026657   \n",
       "5      4.0      True  11 13, 2014  A11V6ZJ2FVQY1D  0700026657   \n",
       "\n",
       "        reviewerName                                         reviewText  \\\n",
       "0        Ambrosia075  This game is a bit hard to get the hang of, bu...   \n",
       "2  Vincent G. Mezera                                           ok game.   \n",
       "3         Grandma KR  found the game a bit too complicated, not what...   \n",
       "4                jon  great game, I love it and have played it since...   \n",
       "5     IBRAHIM ALBADI  i liked a lot some time that i haven't play a ...   \n",
       "\n",
       "                       summary  unixReviewTime  vote style image  \n",
       "0  but when you do it's great.      1445040000     0   NaN   NaN  \n",
       "2                  Three Stars      1424649600     0   NaN   NaN  \n",
       "3                    Two Stars      1424390400     0   NaN   NaN  \n",
       "4               love this game      1419465600     0   NaN   NaN  \n",
       "5                    Anno 2070      1415836800     0   NaN   NaN  "
      ]
     },
     "execution_count": 7,
     "metadata": {},
     "output_type": "execute_result"
    }
   ],
   "source": [
    "df_verif = df_rev[df_rev['verified'] == True]\n",
    "display(df_verif.shape)\n",
    "df_verif.head()"
   ]
  },
  {
   "cell_type": "markdown",
   "id": "dc820ff0-8c39-410f-bc7e-7f45df4cb6ef",
   "metadata": {
    "tags": []
   },
   "source": [
    "## Checking to see if worthwhile creating average rating from solely reviews with nonzero Helpfulness Votes"
   ]
  },
  {
   "cell_type": "code",
   "execution_count": 8,
   "id": "e3693dbb-0607-4a15-8bb6-53a3a0324c88",
   "metadata": {},
   "outputs": [
    {
     "data": {
      "text/plain": [
       "count    332645.000000\n",
       "mean          0.902725\n",
       "std           9.051633\n",
       "min           0.000000\n",
       "25%           0.000000\n",
       "50%           0.000000\n",
       "75%           0.000000\n",
       "max        1214.000000\n",
       "Name: vote, dtype: float64"
      ]
     },
     "execution_count": 8,
     "metadata": {},
     "output_type": "execute_result"
    }
   ],
   "source": [
    "df_verif['vote'].describe()"
   ]
  },
  {
   "cell_type": "code",
   "execution_count": 9,
   "id": "06d748ac-1901-4359-b5ca-afe4f377c50a",
   "metadata": {},
   "outputs": [
    {
     "data": {
      "text/plain": [
       "count    37619.000000\n",
       "mean         7.982323\n",
       "std         25.845426\n",
       "min          2.000000\n",
       "25%          2.000000\n",
       "50%          3.000000\n",
       "75%          6.000000\n",
       "max       1214.000000\n",
       "Name: vote, dtype: float64"
      ]
     },
     "execution_count": 9,
     "metadata": {},
     "output_type": "execute_result"
    }
   ],
   "source": [
    "df_nonz_helpf = df_verif[df_verif['vote'] > 0]\n",
    "df_nonz_helpf['vote'].describe()"
   ]
  },
  {
   "cell_type": "code",
   "execution_count": 10,
   "id": "a058b6b9-173b-458f-8457-3ce708cba265",
   "metadata": {},
   "outputs": [
    {
     "data": {
      "text/plain": [
       "<AxesSubplot:xlabel='vote', ylabel='Density'>"
      ]
     },
     "execution_count": 10,
     "metadata": {},
     "output_type": "execute_result"
    },
    {
     "data": {
      "image/png": "[encoded data removed]",
      "text/plain": [
       "<Figure size 640x480 with 1 Axes>"
      ]
     },
     "metadata": {},
     "output_type": "display_data"
    }
   ],
   "source": [
    "sns.histplot(df_nonz_helpf['vote'], stat = 'density', kde = True)"
   ]
  },
  {
   "cell_type": "code",
   "execution_count": 11,
   "id": "20f33fae-0df4-4cd3-be2a-852930ecc9f3",
   "metadata": {},
   "outputs": [
    {
     "data": {
      "text/plain": [
       "'Proportion of Reviews with Nonzero Helpfulness 0.1130905319484736'"
      ]
     },
     "metadata": {},
     "output_type": "display_data"
    }
   ],
   "source": [
    "# Losing 89% of the data if just rolling with nonzero helpfulness reviews so not worth\n",
    "(display('Proportion of Reviews with Nonzero Helpfulness ' +\n",
    "        str(df_nonz_helpf.shape[0] / df_verif.shape[0])))"
   ]
  },
  {
   "cell_type": "markdown",
   "id": "f9f6e91f-b0c1-427d-8abc-ba4cc9889aab",
   "metadata": {},
   "source": [
    "## Creating Average Rating Column for Each Product Regardless of Helpfulness"
   ]
  },
  {
   "cell_type": "code",
   "execution_count": 12,
   "id": "fd2bf8e9-168e-41d8-b4c4-525ae91d582c",
   "metadata": {},
   "outputs": [
    {
     "data": {
      "text/html": [
       "<div>\n",
       "<style scoped>\n",
       "    .dataframe tbody tr th:only-of-type {\n",
       "        vertical-align: middle;\n",
       "    }\n",
       "\n",
       "    .dataframe tbody tr th {\n",
       "        vertical-align: top;\n",
       "    }\n",
       "\n",
       "    .dataframe thead th {\n",
       "        text-align: right;\n",
       "    }\n",
       "</style>\n",
       "<table border=\"1\" class=\"dataframe\">\n",
       "  <thead>\n",
       "    <tr style=\"text-align: right;\">\n",
       "      <th></th>\n",
       "      <th>avg_rating_unf</th>\n",
       "    </tr>\n",
       "    <tr>\n",
       "      <th>asin</th>\n",
       "      <th></th>\n",
       "    </tr>\n",
       "  </thead>\n",
       "  <tbody>\n",
       "    <tr>\n",
       "      <th>0700026398</th>\n",
       "      <td>3.200000</td>\n",
       "    </tr>\n",
       "    <tr>\n",
       "      <th>0700026657</th>\n",
       "      <td>4.200000</td>\n",
       "    </tr>\n",
       "    <tr>\n",
       "      <th>0700099867</th>\n",
       "      <td>3.181818</td>\n",
       "    </tr>\n",
       "    <tr>\n",
       "      <th>0804161380</th>\n",
       "      <td>4.812500</td>\n",
       "    </tr>\n",
       "    <tr>\n",
       "      <th>3828770193</th>\n",
       "      <td>4.200000</td>\n",
       "    </tr>\n",
       "    <tr>\n",
       "      <th>...</th>\n",
       "      <td>...</td>\n",
       "    </tr>\n",
       "    <tr>\n",
       "      <th>B01HFRICLE</th>\n",
       "      <td>4.384615</td>\n",
       "    </tr>\n",
       "    <tr>\n",
       "      <th>B01HGPUTCA</th>\n",
       "      <td>4.600000</td>\n",
       "    </tr>\n",
       "    <tr>\n",
       "      <th>B01HH6JEOC</th>\n",
       "      <td>4.000000</td>\n",
       "    </tr>\n",
       "    <tr>\n",
       "      <th>B01HIZF7XE</th>\n",
       "      <td>4.657143</td>\n",
       "    </tr>\n",
       "    <tr>\n",
       "      <th>B01HIZGKOE</th>\n",
       "      <td>3.500000</td>\n",
       "    </tr>\n",
       "  </tbody>\n",
       "</table>\n",
       "<p>17099 rows × 1 columns</p>\n",
       "</div>"
      ],
      "text/plain": [
       "            avg_rating_unf\n",
       "asin                      \n",
       "0700026398        3.200000\n",
       "0700026657        4.200000\n",
       "0700099867        3.181818\n",
       "0804161380        4.812500\n",
       "3828770193        4.200000\n",
       "...                    ...\n",
       "B01HFRICLE        4.384615\n",
       "B01HGPUTCA        4.600000\n",
       "B01HH6JEOC        4.000000\n",
       "B01HIZF7XE        4.657143\n",
       "B01HIZGKOE        3.500000\n",
       "\n",
       "[17099 rows x 1 columns]"
      ]
     },
     "execution_count": 12,
     "metadata": {},
     "output_type": "execute_result"
    }
   ],
   "source": [
    "# Losing 7K of products if average is computed solely from helpful reviews\n",
    "z_helpf_avg = df_verif.groupby('asin').agg({'overall' : np.mean})\n",
    "z_helpf_avg.rename(columns = {'overall' :'avg_rating_unf'}, inplace = True)\n",
    "z_helpf_avg"
   ]
  },
  {
   "cell_type": "markdown",
   "id": "38ab28d1-631a-44eb-8b43-f7f82784ab3b",
   "metadata": {},
   "source": [
    "## Data Cleaning"
   ]
  },
  {
   "cell_type": "code",
   "execution_count": 13,
   "id": "55a711e1-eda3-4f8f-9aa6-1326665377ce",
   "metadata": {},
   "outputs": [
    {
     "data": {
      "text/plain": [
       "overall           0.000000\n",
       "verified          0.000000\n",
       "reviewTime        0.000000\n",
       "reviewerID        0.000000\n",
       "asin              0.000000\n",
       "reviewerName      0.000180\n",
       "reviewText        0.000424\n",
       "summary           0.000265\n",
       "unixReviewTime    0.000000\n",
       "vote              0.000000\n",
       "style             0.425721\n",
       "image             0.992830\n",
       "dtype: float64"
      ]
     },
     "execution_count": 13,
     "metadata": {},
     "output_type": "execute_result"
    }
   ],
   "source": [
    "# Checking proportion of NaNs in their respective columns \n",
    "df_verif.isna().sum() / df_verif.shape[0]"
   ]
  },
  {
   "cell_type": "code",
   "execution_count": 14,
   "id": "9bbbf498-246e-4a72-a8fe-e6acbf84eebe",
   "metadata": {},
   "outputs": [
    {
     "data": {
      "text/html": [
       "<div>\n",
       "<style scoped>\n",
       "    .dataframe tbody tr th:only-of-type {\n",
       "        vertical-align: middle;\n",
       "    }\n",
       "\n",
       "    .dataframe tbody tr th {\n",
       "        vertical-align: top;\n",
       "    }\n",
       "\n",
       "    .dataframe thead th {\n",
       "        text-align: right;\n",
       "    }\n",
       "</style>\n",
       "<table border=\"1\" class=\"dataframe\">\n",
       "  <thead>\n",
       "    <tr style=\"text-align: right;\">\n",
       "      <th></th>\n",
       "      <th>overall</th>\n",
       "      <th>reviewerID</th>\n",
       "      <th>asin</th>\n",
       "      <th>reviewerName</th>\n",
       "      <th>reviewText</th>\n",
       "      <th>summary</th>\n",
       "      <th>vote</th>\n",
       "    </tr>\n",
       "  </thead>\n",
       "  <tbody>\n",
       "    <tr>\n",
       "      <th>0</th>\n",
       "      <td>5.0</td>\n",
       "      <td>A1HP7NVNPFMA4N</td>\n",
       "      <td>0700026657</td>\n",
       "      <td>Ambrosia075</td>\n",
       "      <td>This game is a bit hard to get the hang of, bu...</td>\n",
       "      <td>but when you do it's great.</td>\n",
       "      <td>0</td>\n",
       "    </tr>\n",
       "    <tr>\n",
       "      <th>2</th>\n",
       "      <td>3.0</td>\n",
       "      <td>A1YJWEXHQBWK2B</td>\n",
       "      <td>0700026657</td>\n",
       "      <td>Vincent G. Mezera</td>\n",
       "      <td>ok game.</td>\n",
       "      <td>Three Stars</td>\n",
       "      <td>0</td>\n",
       "    </tr>\n",
       "    <tr>\n",
       "      <th>3</th>\n",
       "      <td>2.0</td>\n",
       "      <td>A2204E1TH211HT</td>\n",
       "      <td>0700026657</td>\n",
       "      <td>Grandma KR</td>\n",
       "      <td>found the game a bit too complicated, not what...</td>\n",
       "      <td>Two Stars</td>\n",
       "      <td>0</td>\n",
       "    </tr>\n",
       "    <tr>\n",
       "      <th>4</th>\n",
       "      <td>5.0</td>\n",
       "      <td>A2RF5B5H74JLPE</td>\n",
       "      <td>0700026657</td>\n",
       "      <td>jon</td>\n",
       "      <td>great game, I love it and have played it since...</td>\n",
       "      <td>love this game</td>\n",
       "      <td>0</td>\n",
       "    </tr>\n",
       "    <tr>\n",
       "      <th>5</th>\n",
       "      <td>4.0</td>\n",
       "      <td>A11V6ZJ2FVQY1D</td>\n",
       "      <td>0700026657</td>\n",
       "      <td>IBRAHIM ALBADI</td>\n",
       "      <td>i liked a lot some time that i haven't play a ...</td>\n",
       "      <td>Anno 2070</td>\n",
       "      <td>0</td>\n",
       "    </tr>\n",
       "  </tbody>\n",
       "</table>\n",
       "</div>"
      ],
      "text/plain": [
       "   overall      reviewerID        asin       reviewerName  \\\n",
       "0      5.0  A1HP7NVNPFMA4N  0700026657        Ambrosia075   \n",
       "2      3.0  A1YJWEXHQBWK2B  0700026657  Vincent G. Mezera   \n",
       "3      2.0  A2204E1TH211HT  0700026657         Grandma KR   \n",
       "4      5.0  A2RF5B5H74JLPE  0700026657                jon   \n",
       "5      4.0  A11V6ZJ2FVQY1D  0700026657     IBRAHIM ALBADI   \n",
       "\n",
       "                                          reviewText  \\\n",
       "0  This game is a bit hard to get the hang of, bu...   \n",
       "2                                           ok game.   \n",
       "3  found the game a bit too complicated, not what...   \n",
       "4  great game, I love it and have played it since...   \n",
       "5  i liked a lot some time that i haven't play a ...   \n",
       "\n",
       "                       summary  vote  \n",
       "0  but when you do it's great.     0  \n",
       "2                  Three Stars     0  \n",
       "3                    Two Stars     0  \n",
       "4               love this game     0  \n",
       "5                    Anno 2070     0  "
      ]
     },
     "execution_count": 14,
     "metadata": {},
     "output_type": "execute_result"
    }
   ],
   "source": [
    "dfcl_verif = df_verif.drop(columns = ['image', 'style', 'unixReviewTime', 'reviewTime', 'verified'])\n",
    "dfcl_verif.head()"
   ]
  },
  {
   "cell_type": "markdown",
   "id": "4b31d0f2-a5c4-4913-9001-a94a34ccff27",
   "metadata": {
    "tags": []
   },
   "source": [
    "# Creating Column of the Review Counts "
   ]
  },
  {
   "cell_type": "code",
   "execution_count": 15,
   "id": "7465eb3a-9ced-4f67-ba14-4fdf4b0f031e",
   "metadata": {},
   "outputs": [
    {
     "data": {
      "text/html": [
       "<div>\n",
       "<style scoped>\n",
       "    .dataframe tbody tr th:only-of-type {\n",
       "        vertical-align: middle;\n",
       "    }\n",
       "\n",
       "    .dataframe tbody tr th {\n",
       "        vertical-align: top;\n",
       "    }\n",
       "\n",
       "    .dataframe thead th {\n",
       "        text-align: right;\n",
       "    }\n",
       "</style>\n",
       "<table border=\"1\" class=\"dataframe\">\n",
       "  <thead>\n",
       "    <tr style=\"text-align: right;\">\n",
       "      <th></th>\n",
       "      <th>count</th>\n",
       "    </tr>\n",
       "    <tr>\n",
       "      <th>asin</th>\n",
       "      <th></th>\n",
       "    </tr>\n",
       "  </thead>\n",
       "  <tbody>\n",
       "    <tr>\n",
       "      <th>0700026398</th>\n",
       "      <td>5</td>\n",
       "    </tr>\n",
       "    <tr>\n",
       "      <th>0700026657</th>\n",
       "      <td>10</td>\n",
       "    </tr>\n",
       "    <tr>\n",
       "      <th>0700099867</th>\n",
       "      <td>22</td>\n",
       "    </tr>\n",
       "    <tr>\n",
       "      <th>0804161380</th>\n",
       "      <td>48</td>\n",
       "    </tr>\n",
       "    <tr>\n",
       "      <th>3828770193</th>\n",
       "      <td>5</td>\n",
       "    </tr>\n",
       "  </tbody>\n",
       "</table>\n",
       "</div>"
      ],
      "text/plain": [
       "            count\n",
       "asin             \n",
       "0700026398      5\n",
       "0700026657     10\n",
       "0700099867     22\n",
       "0804161380     48\n",
       "3828770193      5"
      ]
     },
     "execution_count": 15,
     "metadata": {},
     "output_type": "execute_result"
    }
   ],
   "source": [
    "count_df = dfcl_verif.groupby('asin').size().to_frame(name = 'count')\n",
    "count_df.head()"
   ]
  },
  {
   "cell_type": "markdown",
   "id": "23e193cf-74b7-44ae-81fb-a44e5ab9caf0",
   "metadata": {},
   "source": [
    "# Making Final Dataset "
   ]
  },
  {
   "cell_type": "code",
   "execution_count": 16,
   "id": "a0e754c8-e40b-4349-afd5-15e294008d1b",
   "metadata": {},
   "outputs": [],
   "source": [
    "dfcl_verif.set_index('asin', inplace = True)"
   ]
  },
  {
   "cell_type": "code",
   "execution_count": 17,
   "id": "86a3ad75-4057-4e8b-b291-8a3bd32693f5",
   "metadata": {},
   "outputs": [
    {
     "data": {
      "text/html": [
       "<div>\n",
       "<style scoped>\n",
       "    .dataframe tbody tr th:only-of-type {\n",
       "        vertical-align: middle;\n",
       "    }\n",
       "\n",
       "    .dataframe tbody tr th {\n",
       "        vertical-align: top;\n",
       "    }\n",
       "\n",
       "    .dataframe thead th {\n",
       "        text-align: right;\n",
       "    }\n",
       "</style>\n",
       "<table border=\"1\" class=\"dataframe\">\n",
       "  <thead>\n",
       "    <tr style=\"text-align: right;\">\n",
       "      <th></th>\n",
       "      <th>overall</th>\n",
       "      <th>reviewerID</th>\n",
       "      <th>reviewerName</th>\n",
       "      <th>reviewText</th>\n",
       "      <th>summary</th>\n",
       "      <th>vote</th>\n",
       "      <th>count</th>\n",
       "    </tr>\n",
       "    <tr>\n",
       "      <th>asin</th>\n",
       "      <th></th>\n",
       "      <th></th>\n",
       "      <th></th>\n",
       "      <th></th>\n",
       "      <th></th>\n",
       "      <th></th>\n",
       "      <th></th>\n",
       "    </tr>\n",
       "  </thead>\n",
       "  <tbody>\n",
       "    <tr>\n",
       "      <th>0700026398</th>\n",
       "      <td>1.0</td>\n",
       "      <td>A1NQ759X8WPIVV</td>\n",
       "      <td>Lynn</td>\n",
       "      <td>I'm sure I would love the game, if I could pla...</td>\n",
       "      <td>Requires steam</td>\n",
       "      <td>0</td>\n",
       "      <td>5</td>\n",
       "    </tr>\n",
       "    <tr>\n",
       "      <th>0700026398</th>\n",
       "      <td>4.0</td>\n",
       "      <td>A2RGUDIF7VB7JZ</td>\n",
       "      <td>Johnathan Scott</td>\n",
       "      <td>Good game</td>\n",
       "      <td>Four Stars</td>\n",
       "      <td>0</td>\n",
       "      <td>5</td>\n",
       "    </tr>\n",
       "    <tr>\n",
       "      <th>0700026398</th>\n",
       "      <td>4.0</td>\n",
       "      <td>A2FTI5YE727I78</td>\n",
       "      <td>CubOfJudahsLion</td>\n",
       "      <td>This installment introduces some unusual eleme...</td>\n",
       "      <td>I like him having some motivation to pursue a ...</td>\n",
       "      <td>0</td>\n",
       "      <td>5</td>\n",
       "    </tr>\n",
       "    <tr>\n",
       "      <th>0700026398</th>\n",
       "      <td>2.0</td>\n",
       "      <td>A2IPY9UTB8JEU5</td>\n",
       "      <td>Emelinda Willis</td>\n",
       "      <td>This game requires that you open an online acc...</td>\n",
       "      <td>Requires constant online access. This is only ...</td>\n",
       "      <td>0</td>\n",
       "      <td>5</td>\n",
       "    </tr>\n",
       "    <tr>\n",
       "      <th>0700026398</th>\n",
       "      <td>5.0</td>\n",
       "      <td>AK9YPIL2TWL24</td>\n",
       "      <td>David Neil</td>\n",
       "      <td>great game! go agent 47!</td>\n",
       "      <td>Five Stars</td>\n",
       "      <td>0</td>\n",
       "      <td>5</td>\n",
       "    </tr>\n",
       "  </tbody>\n",
       "</table>\n",
       "</div>"
      ],
      "text/plain": [
       "            overall      reviewerID     reviewerName  \\\n",
       "asin                                                   \n",
       "0700026398      1.0  A1NQ759X8WPIVV             Lynn   \n",
       "0700026398      4.0  A2RGUDIF7VB7JZ  Johnathan Scott   \n",
       "0700026398      4.0  A2FTI5YE727I78  CubOfJudahsLion   \n",
       "0700026398      2.0  A2IPY9UTB8JEU5  Emelinda Willis   \n",
       "0700026398      5.0   AK9YPIL2TWL24       David Neil   \n",
       "\n",
       "                                                   reviewText  \\\n",
       "asin                                                            \n",
       "0700026398  I'm sure I would love the game, if I could pla...   \n",
       "0700026398                                          Good game   \n",
       "0700026398  This installment introduces some unusual eleme...   \n",
       "0700026398  This game requires that you open an online acc...   \n",
       "0700026398                           great game! go agent 47!   \n",
       "\n",
       "                                                      summary  vote  count  \n",
       "asin                                                                        \n",
       "0700026398                                     Requires steam     0      5  \n",
       "0700026398                                         Four Stars     0      5  \n",
       "0700026398  I like him having some motivation to pursue a ...     0      5  \n",
       "0700026398  Requires constant online access. This is only ...     0      5  \n",
       "0700026398                                         Five Stars     0      5  "
      ]
     },
     "execution_count": 17,
     "metadata": {},
     "output_type": "execute_result"
    }
   ],
   "source": [
    "df_cnt_rev = pd.merge(dfcl_verif,count_df, left_index = True, right_index = True)\n",
    "df_cnt_rev.head()"
   ]
  },
  {
   "cell_type": "code",
   "execution_count": 18,
   "id": "57dee6bb-208e-406b-958d-13f07b016dd5",
   "metadata": {},
   "outputs": [
    {
     "data": {
      "text/html": [
       "<div>\n",
       "<style scoped>\n",
       "    .dataframe tbody tr th:only-of-type {\n",
       "        vertical-align: middle;\n",
       "    }\n",
       "\n",
       "    .dataframe tbody tr th {\n",
       "        vertical-align: top;\n",
       "    }\n",
       "\n",
       "    .dataframe thead th {\n",
       "        text-align: right;\n",
       "    }\n",
       "</style>\n",
       "<table border=\"1\" class=\"dataframe\">\n",
       "  <thead>\n",
       "    <tr style=\"text-align: right;\">\n",
       "      <th></th>\n",
       "      <th>overall</th>\n",
       "      <th>reviewerID</th>\n",
       "      <th>reviewerName</th>\n",
       "      <th>reviewText</th>\n",
       "      <th>summary</th>\n",
       "      <th>vote</th>\n",
       "      <th>count</th>\n",
       "      <th>avg_rating_unf</th>\n",
       "    </tr>\n",
       "    <tr>\n",
       "      <th>asin</th>\n",
       "      <th></th>\n",
       "      <th></th>\n",
       "      <th></th>\n",
       "      <th></th>\n",
       "      <th></th>\n",
       "      <th></th>\n",
       "      <th></th>\n",
       "      <th></th>\n",
       "    </tr>\n",
       "  </thead>\n",
       "  <tbody>\n",
       "    <tr>\n",
       "      <th>0700026398</th>\n",
       "      <td>1.0</td>\n",
       "      <td>A1NQ759X8WPIVV</td>\n",
       "      <td>Lynn</td>\n",
       "      <td>I'm sure I would love the game, if I could pla...</td>\n",
       "      <td>Requires steam</td>\n",
       "      <td>0</td>\n",
       "      <td>5</td>\n",
       "      <td>3.2</td>\n",
       "    </tr>\n",
       "    <tr>\n",
       "      <th>0700026398</th>\n",
       "      <td>4.0</td>\n",
       "      <td>A2RGUDIF7VB7JZ</td>\n",
       "      <td>Johnathan Scott</td>\n",
       "      <td>Good game</td>\n",
       "      <td>Four Stars</td>\n",
       "      <td>0</td>\n",
       "      <td>5</td>\n",
       "      <td>3.2</td>\n",
       "    </tr>\n",
       "    <tr>\n",
       "      <th>0700026398</th>\n",
       "      <td>4.0</td>\n",
       "      <td>A2FTI5YE727I78</td>\n",
       "      <td>CubOfJudahsLion</td>\n",
       "      <td>This installment introduces some unusual eleme...</td>\n",
       "      <td>I like him having some motivation to pursue a ...</td>\n",
       "      <td>0</td>\n",
       "      <td>5</td>\n",
       "      <td>3.2</td>\n",
       "    </tr>\n",
       "    <tr>\n",
       "      <th>0700026398</th>\n",
       "      <td>2.0</td>\n",
       "      <td>A2IPY9UTB8JEU5</td>\n",
       "      <td>Emelinda Willis</td>\n",
       "      <td>This game requires that you open an online acc...</td>\n",
       "      <td>Requires constant online access. This is only ...</td>\n",
       "      <td>0</td>\n",
       "      <td>5</td>\n",
       "      <td>3.2</td>\n",
       "    </tr>\n",
       "    <tr>\n",
       "      <th>0700026398</th>\n",
       "      <td>5.0</td>\n",
       "      <td>AK9YPIL2TWL24</td>\n",
       "      <td>David Neil</td>\n",
       "      <td>great game! go agent 47!</td>\n",
       "      <td>Five Stars</td>\n",
       "      <td>0</td>\n",
       "      <td>5</td>\n",
       "      <td>3.2</td>\n",
       "    </tr>\n",
       "  </tbody>\n",
       "</table>\n",
       "</div>"
      ],
      "text/plain": [
       "            overall      reviewerID     reviewerName  \\\n",
       "asin                                                   \n",
       "0700026398      1.0  A1NQ759X8WPIVV             Lynn   \n",
       "0700026398      4.0  A2RGUDIF7VB7JZ  Johnathan Scott   \n",
       "0700026398      4.0  A2FTI5YE727I78  CubOfJudahsLion   \n",
       "0700026398      2.0  A2IPY9UTB8JEU5  Emelinda Willis   \n",
       "0700026398      5.0   AK9YPIL2TWL24       David Neil   \n",
       "\n",
       "                                                   reviewText  \\\n",
       "asin                                                            \n",
       "0700026398  I'm sure I would love the game, if I could pla...   \n",
       "0700026398                                          Good game   \n",
       "0700026398  This installment introduces some unusual eleme...   \n",
       "0700026398  This game requires that you open an online acc...   \n",
       "0700026398                           great game! go agent 47!   \n",
       "\n",
       "                                                      summary  vote  count  \\\n",
       "asin                                                                         \n",
       "0700026398                                     Requires steam     0      5   \n",
       "0700026398                                         Four Stars     0      5   \n",
       "0700026398  I like him having some motivation to pursue a ...     0      5   \n",
       "0700026398  Requires constant online access. This is only ...     0      5   \n",
       "0700026398                                         Five Stars     0      5   \n",
       "\n",
       "            avg_rating_unf  \n",
       "asin                        \n",
       "0700026398             3.2  \n",
       "0700026398             3.2  \n",
       "0700026398             3.2  \n",
       "0700026398             3.2  \n",
       "0700026398             3.2  "
      ]
     },
     "execution_count": 18,
     "metadata": {},
     "output_type": "execute_result"
    }
   ],
   "source": [
    "df_all_cl = pd.merge(df_cnt_rev,z_helpf_avg, left_index = True, right_index = True)\n",
    "df_all_cl.head()"
   ]
  },
  {
   "cell_type": "code",
   "execution_count": 19,
   "id": "38aeec79-9831-4a66-b69a-c76cfddbf5b2",
   "metadata": {},
   "outputs": [],
   "source": [
    "df_all_cl.to_csv('vg_ratings.csv')"
   ]
  }
 ],
 "metadata": {
  "kernelspec": {
   "display_name": "Python 3 (ipykernel)",
   "language": "python",
   "name": "python3"
  },
  "language_info": {
   "codemirror_mode": {
    "name": "ipython",
    "version": 3
   },
   "file_extension": ".py",
   "mimetype": "text/x-python",
   "name": "python",
   "nbconvert_exporter": "python",
   "pygments_lexer": "ipython3",
   "version": "3.9.0"
  }
 },
 "nbformat": 4,
 "nbformat_minor": 5
}
